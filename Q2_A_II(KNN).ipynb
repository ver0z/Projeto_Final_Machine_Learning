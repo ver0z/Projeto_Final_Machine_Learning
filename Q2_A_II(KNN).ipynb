{
  "nbformat": 4,
  "nbformat_minor": 0,
  "metadata": {
    "colab": {
      "name": "Q2_A-II(KNN).ipynb",
      "provenance": [],
      "collapsed_sections": []
    },
    "kernelspec": {
      "name": "python3",
      "display_name": "Python 3"
    }
  },
  "cells": [
    {
      "cell_type": "code",
      "metadata": {
        "colab": {
          "base_uri": "https://localhost:8080/"
        },
        "id": "39VxlAsY2qd1",
        "outputId": "00c773d6-7eac-44de-b939-a102c3fe33cb"
      },
      "source": [
        "from google.colab import drive\n",
        "drive.mount('/content/drive')"
      ],
      "execution_count": null,
      "outputs": [
        {
          "output_type": "stream",
          "text": [
            "Mounted at /content/drive\n"
          ],
          "name": "stdout"
        }
      ]
    },
    {
      "cell_type": "code",
      "metadata": {
        "id": "v6HEgXGmPkGu",
        "colab": {
          "base_uri": "https://localhost:8080/"
        },
        "outputId": "f6ca8dca-648f-4c21-8c91-e9e19e0d0bef"
      },
      "source": [
        "import pandas as pd\n",
        "import numpy as np\n",
        "import matplotlib.pyplot as plt\n",
        "from sklearn.preprocessing import MinMaxScaler\n",
        "from sklearn.model_selection import train_test_split, cross_val_score\n",
        "from sklearn.model_selection import GridSearchCV\n",
        "from sklearn.neighbors import KNeighborsClassifier\n",
        "from sklearn.model_selection import cross_val_score, cross_validate\n",
        "from sklearn.metrics import confusion_matrix,accuracy_score, precision_score, recall_score, f1_score\n",
        "from sklearn import metrics\n",
        "from sklearn import datasets\n",
        "import scipy as sp                                                         \n",
        "import scipy.stats as stats\n",
        "from yellowbrick.classifier import ConfusionMatrix\n",
        "from sklearn.linear_model import LogisticRegression\n",
        "import math\n",
        "from sklearn import model_selection\n",
        "from sklearn.metrics import make_scorer"
      ],
      "execution_count": null,
      "outputs": [
        {
          "output_type": "stream",
          "text": [
            "/usr/local/lib/python3.7/dist-packages/sklearn/utils/deprecation.py:144: FutureWarning: The sklearn.metrics.classification module is  deprecated in version 0.22 and will be removed in version 0.24. The corresponding classes / functions should instead be imported from sklearn.metrics. Anything that cannot be imported from sklearn.metrics is now part of the private API.\n",
            "  warnings.warn(message, FutureWarning)\n"
          ],
          "name": "stderr"
        }
      ]
    },
    {
      "cell_type": "code",
      "metadata": {
        "id": "Gsn7HvzdRDuA"
      },
      "source": [
        "# Criando um dicionário com as métricas.\n",
        "meus_scores = {'accuracy' :make_scorer(accuracy_score),\n",
        "               'recall'   :make_scorer(recall_score),\n",
        "               'precision':make_scorer(precision_score),\n",
        "               'f1'       :make_scorer(f1_score)}"
      ],
      "execution_count": null,
      "outputs": []
    },
    {
      "cell_type": "markdown",
      "metadata": {
        "id": "FsuX5OjxzEo9"
      },
      "source": [
        "# **2 QUESTÃO**"
      ]
    },
    {
      "cell_type": "markdown",
      "metadata": {
        "id": "TgSbihAJPZBP"
      },
      "source": [
        "#Intervalo de Confiança\n",
        "\n",
        "*   Criação da função de Intervalo de confiança para 95%. A função é executada para todo os classificadores e executada depois da validação cruzada.\n",
        "*   Com a métrica de error não tinha pré-definida foi feita o cálculo: 1- acurácia.\n",
        "*   O resultado mostra todos os valores para as métricas: error, f1, precision e recall e a sua média.\n"
      ]
    },
    {
      "cell_type": "code",
      "metadata": {
        "id": "AlhzNq5onRhg"
      },
      "source": [
        "\n",
        "def confidence_intervals(resuls_metrics):\n",
        "\n",
        "  data_conf_inter = pd.DataFrame.from_dict(resuls_metrics)\n",
        "  data_conf_inter['test_error_rate'] =  1 - data_conf_inter['test_accuracy']\n",
        "\n",
        "  size_pop = previsores.shape[0]\n",
        "  z_critical = stats.norm.ppf(q = 0.95)  # z-critical valor\n",
        "\n",
        "\n",
        "  error_rate_mean = data_conf_inter['test_error_rate'].mean()\n",
        "  error_rate_std = data_conf_inter['test_error_rate'].std()\n",
        "  precision_mean = data_conf_inter['test_precision'].mean()\n",
        "  precions_std = data_conf_inter['test_precision'].std()\n",
        "  f1_mean = data_conf_inter['test_f1'].mean()\n",
        "  f1_std = data_conf_inter['test_f1'].std()\n",
        "  recall_mean = data_conf_inter['test_recall'].mean()\n",
        "  recall_std = data_conf_inter['test_recall'].std()\n",
        "\n",
        "  metrics = {'error_rate':None, 'precision':None, 'recall':None, 'f1':None}\n",
        "\n",
        "  error_rate_margin = z_critical * (error_rate_std/math.sqrt(size_pop))\n",
        "  error_rate_conf_interv = (error_rate_mean - error_rate_margin, error_rate_mean + error_rate_margin)\n",
        "  metrics['error_rate'] = {'mean': error_rate_mean, 'conf_inter': error_rate_conf_interv}\n",
        "\n",
        "  precision_margin = z_critical * (precions_std/math.sqrt(size_pop))\n",
        "  precision_conf_interv = (precision_mean - precision_margin, precision_mean + precision_margin)\n",
        "  metrics['precision'] = {'mean': precision_mean, 'conf_inter': precision_conf_interv}\n",
        "\n",
        "  f1_margin = z_critical * (f1_std/math.sqrt(size_pop))\n",
        "  f1_conf_interv = (f1_mean - f1_margin, f1_mean + f1_margin)\n",
        "  metrics['f1'] = {'mean': f1_mean, 'conf_inter': f1_conf_interv}\n",
        "\n",
        "  recall_margin = z_critical * (recall_std/math.sqrt(size_pop))\n",
        "  recall_conf_interv = (recall_mean - recall_margin, recall_mean + recall_margin)\n",
        "  metrics['recall'] = {'mean': recall_mean, 'conf_inter': recall_conf_interv}\n",
        "\n",
        "\n",
        "  return metrics;\n"
      ],
      "execution_count": null,
      "outputs": []
    },
    {
      "cell_type": "markdown",
      "metadata": {
        "id": "LSrOQ6tSy91U"
      },
      "source": [
        "# Classificador bayesiano gaussiano: considere a seguinte regra de decisão: afetar o exemplo **x**k à classe ωl se P(ωl\n",
        "|xk ) = 2\n",
        "max\n",
        "i=1\n",
        "P(ωi\n",
        "|xk\n",
        ") com P(ωi\n",
        "|xk\n",
        ") = p(xk\n",
        "|ωi\n",
        ")P(ωi\n",
        ")\n",
        "Pc\n",
        "r=1\n",
        "p(xk\n",
        "|ωr )P(ωr )\n",
        "(1 ≤ l ≤ 2)"
      ]
    },
    {
      "cell_type": "markdown",
      "metadata": {
        "id": "O4KNSDFqpvPI"
      },
      "source": [
        "\n",
        "\n",
        "*   Procedimento de normalização dos dados com MinMax\n",
        "*   Definição dos valores para média e variância ao longo dos indices com suavização da variância\n",
        "*   Captação dos valores de probabilidade a priori\n",
        "*   Utilização da multivariada normal com log da função densidade de probabilidade\n",
        "*   Soma dos logs, com a obtenção da probabilidade a posteriori\n",
        "\n",
        "\n"
      ]
    },
    {
      "cell_type": "code",
      "metadata": {
        "id": "q0P1ZPzkLMZK",
        "colab": {
          "base_uri": "https://localhost:8080/"
        },
        "outputId": "f18ac97d-c026-417e-991d-b3bc3a48d32e"
      },
      "source": [
        "!pip install utils"
      ],
      "execution_count": null,
      "outputs": [
        {
          "output_type": "stream",
          "text": [
            "Collecting utils\n",
            "  Downloading https://files.pythonhosted.org/packages/55/e6/c2d2b2703e7debc8b501caae0e6f7ead148fd0faa3c8131292a599930029/utils-1.0.1-py2.py3-none-any.whl\n",
            "Installing collected packages: utils\n",
            "Successfully installed utils-1.0.1\n"
          ],
          "name": "stdout"
        }
      ]
    },
    {
      "cell_type": "code",
      "metadata": {
        "id": "WvEdoTssf2bj"
      },
      "source": [
        "import numpy as np\n",
        "from utils import *\n",
        "from datetime import datetime\n",
        "from scipy.stats import norm\n",
        "from sklearn.datasets import make_blobs\n",
        "import matplotlib.pyplot as plt\n",
        "from scipy.stats import multivariate_normal as mvn\n",
        "import pandas as pd\n",
        "from sklearn.preprocessing import MinMaxScaler\n",
        "from sklearn.model_selection import train_test_split, cross_validate\n",
        "from sklearn.metrics import accuracy_score\n",
        "from sklearn.metrics import precision_score\n",
        "from sklearn.metrics import recall_score\n",
        "from sklearn.metrics import f1_score\n",
        "from sklearn.model_selection import StratifiedKFold, KFold\n",
        "from sklearn.model_selection import cross_validate\n",
        "from sklearn.base import BaseEstimator, ClassifierMixin"
      ],
      "execution_count": null,
      "outputs": []
    },
    {
      "cell_type": "code",
      "metadata": {
        "id": "j9NN6Iumf6AL"
      },
      "source": [
        "class NaiveBayes(BaseEstimator, ClassifierMixin):\n",
        "  \n",
        "    def __init__(self,verbose=False):\n",
        "        self.verbose = verbose\n",
        "\n",
        "    def fit(self, X, Y, smoothing=10e-3):\n",
        "        self.gaussians = dict()\n",
        "        self.priors = dict()\n",
        "        labels = set(Y)\n",
        "        for c in labels:\n",
        "            current_x = X[Y == c]\n",
        "            self.gaussians[c] = {\n",
        "                'mean': current_x.mean(axis=0),\n",
        "                'var': current_x.var(axis=0) + smoothing,\n",
        "            }\n",
        "            self.priors[c] = float(len(Y[Y == c])) / len(Y)\n",
        "        \n",
        "\n",
        "    def score(self, X, Y):\n",
        "        P = self.predict(X)\n",
        "        return np.mean(P == Y)\n",
        "\n",
        "    def predict(self, X):\n",
        "        N, D = X.shape\n",
        "        K = len(self.gaussians)\n",
        "        P = np.zeros((N, K))\n",
        "        for c, g in self.gaussians.items():\n",
        "            # print \"c:\", c\n",
        "            mean, var = g['mean'], g['var']\n",
        "            P[:,c] = mvn.logpdf(X, mean=mean, cov=var) + np.log(self.priors[c])\n",
        "        return np.argmax(P, axis=1)\n",
        "\n"
      ],
      "execution_count": null,
      "outputs": []
    },
    {
      "cell_type": "code",
      "metadata": {
        "colab": {
          "base_uri": "https://localhost:8080/"
        },
        "id": "VBFizCnRf9iK",
        "outputId": "d477309d-d85f-4d87-c7aa-894c6b6769a0"
      },
      "source": [
        "if __name__ == '__main__':\n",
        "    dataset = pd.read_csv('/content/drive/MyDrive/AM/Projeto AM/data_banknote_authentication_teste.csv', header=None)\n",
        "\n",
        "    normalizer = MinMaxScaler(feature_range=(0.00001, 1.00001 ))\n",
        "    normalizer.fit(dataset.iloc[:, :-1])\n",
        "    df = pd.DataFrame(dataset)\n",
        "    normalizer.fit(df)\n",
        "    df_normalizer=normalizer.transform(df)\n",
        "\n",
        "    #Separação dos dados para os previsores e classe, já normalizados\n",
        "    previsores = df_normalizer[:,0:4]\n",
        "    classes = dataset.iloc[:,4]\n",
        "    \n",
        "    Ntrain = len(classes) / 2 \n",
        "\n",
        "    #Separação de 80% treinamento, 20% teste com os dados já normalizados e estratitificados\n",
        "    previsores_train, previsores_test, classe_train, classe_test = train_test_split(previsores, classes, test_size=0.2, random_state=42, stratify=classes)\n",
        "    \n",
        "\n",
        "    NB = NaiveBayes()\n",
        "    t0 = datetime.now()\n",
        "    NB.fit(previsores_train, classe_train)\n",
        "    print (\"Training time:\", (datetime.now() - t0))\n",
        "\n",
        "    t0 = datetime.now()\n",
        "    print (\"Train accuracy:\", NB.score(previsores_train, classe_train))\n",
        "    print (\"Time to compute train accuracy:\", (datetime.now() - t0), \"Train size:\", len(classe_train))\n",
        "\n",
        "    t0 = datetime.now()\n",
        "    print (\"Test accuracy:\", NB.score(previsores_test, classe_test))\n",
        "    print (\"Time to compute test accuracy:\", (datetime.now() - t0), \"Test size:\", len(classe_test))"
      ],
      "execution_count": null,
      "outputs": [
        {
          "output_type": "stream",
          "text": [
            "Training time: 0:00:00.038368\n",
            "Train accuracy: 0.837739288969918\n",
            "Time to compute train accuracy: 0:00:00.040036 Train size: 1097\n",
            "Test accuracy: 0.8545454545454545\n",
            "Time to compute test accuracy: 0:00:00.001604 Test size: 275\n"
          ],
          "name": "stdout"
        }
      ]
    },
    {
      "cell_type": "code",
      "metadata": {
        "id": "M8qZscTO6YRL"
      },
      "source": [
        "predict_NB = NB.predict(previsores_test)\n"
      ],
      "execution_count": null,
      "outputs": []
    },
    {
      "cell_type": "code",
      "metadata": {
        "colab": {
          "base_uri": "https://localhost:8080/"
        },
        "id": "_Mq678g86Pb-",
        "outputId": "f7c1cbae-3211-4f48-b16d-c3afd1a46803"
      },
      "source": [
        "skf = StratifiedKFold(n_splits=10)\n",
        "validation_nbclassifier = cross_validate(NB, previsores, classes, cv=skf, scoring=meus_scores) \n",
        "confidence_intervals(validation_nbclassifier)\n"
      ],
      "execution_count": null,
      "outputs": [
        {
          "output_type": "execute_result",
          "data": {
            "text/plain": [
              "{'error_rate': {'conf_inter': (0.15945544822871388, 0.16272798560181606),\n",
              "  'mean': 0.16109171691526497},\n",
              " 'f1': {'conf_inter': (0.8036035382218729, 0.8080673425064171),\n",
              "  'mean': 0.805835440364145},\n",
              " 'precision': {'conf_inter': (0.8606384504252516, 0.8634789995644292),\n",
              "  'mean': 0.8620587249948404},\n",
              " 'recall': {'conf_inter': (0.755723891759616, 0.7623088951256299),\n",
              "  'mean': 0.759016393442623}}"
            ]
          },
          "metadata": {
            "tags": []
          },
          "execution_count": 11
        }
      ]
    },
    {
      "cell_type": "markdown",
      "metadata": {
        "id": "ZdgsYJ6Bypm8"
      },
      "source": [
        "# Treine um classificador bayesiano baseados em k-vizinhos. Normalize os dados e use a distância Euclidiana para definir a vizinhança. Use conjunto de validação para fixar o o número de vizinhos k.\n",
        "\n",
        "\n",
        "*  Para o KNN nessa questão foi feito a normalização dos dados com MinMax para que os valores fiquem no intervalo de [0,1].\n",
        "*   Foi realizado a separação do conjunto de treinamento, validação e teste, onde ficou: 80% treinamento, 20% teste e para a validação foi 20% retirado dos 80% de treinamento.\n",
        "*  Para a escolha do valor de vizinhos foi utilizado o conjunto de validação e feito GridSearch com o objetivo de buscar o melhor valor. Além disso, a métrica de distância utilizada foi a Euclidiana.\n",
        "* O melhor valor foi o de: 1 vizinho com o valor de acurácia 0.9964285714285716.\n",
        "* Teve 100% de positivo com a Matriz de confusão.\n",
        "\n",
        "\n",
        "\n"
      ]
    },
    {
      "cell_type": "code",
      "metadata": {
        "id": "2C2PuyQpwP4P",
        "colab": {
          "base_uri": "https://localhost:8080/"
        },
        "outputId": "6e13c562-afad-4e0a-b47b-e8d9b550f20b"
      },
      "source": [
        "#dataset = pd.read_csv('/content/BankNote_Authentication.csv')\n",
        "dataset = pd.read_csv('/content/drive/MyDrive/AM/Projeto AM/data_banknote_authentication_teste.csv', header=None)\n",
        "dataset.shape[0]"
      ],
      "execution_count": null,
      "outputs": [
        {
          "output_type": "execute_result",
          "data": {
            "text/plain": [
              "1372"
            ]
          },
          "metadata": {
            "tags": []
          },
          "execution_count": 12
        }
      ]
    },
    {
      "cell_type": "code",
      "metadata": {
        "id": "hqKnk57l0ECI"
      },
      "source": [
        "#Normalização dos dados\n",
        "normalizer = MinMaxScaler(feature_range=(0.00001, 1.00001 ))\n",
        "normalizer.fit(dataset.iloc[:, :-1])\n",
        "df = pd.DataFrame(dataset)\n",
        "normalizer.fit(df)\n",
        "df_normalizer=normalizer.transform(df)\n",
        "\n"
      ],
      "execution_count": null,
      "outputs": []
    },
    {
      "cell_type": "code",
      "metadata": {
        "id": "oqSfbckZICb4"
      },
      "source": [
        "#Separação dos dados para os previsores e classe, já normalizados\n",
        "previsores = df_normalizer[:,0:4]\n",
        "classes = dataset.iloc[:,4]\n"
      ],
      "execution_count": null,
      "outputs": []
    },
    {
      "cell_type": "code",
      "metadata": {
        "id": "aqMzaJ1pwSuv"
      },
      "source": [
        "#Separação de 80% treinamento, 20% teste com os dados já normalizados e estratitificados\n",
        "previsores_train, previsores_test, classe_train, classe_test = train_test_split(previsores, classes, test_size=0.2, random_state=42, stratify=classes)\n",
        "\n",
        "#O conjunto de validação 20% foi retirado do conjunto de treinamento \n",
        "previsores_train_x, previsores_valida, classe_train_y, classe_valida = train_test_split(previsores_train, classe_train, test_size=0.25, random_state=42, stratify=classe_train)\n"
      ],
      "execution_count": null,
      "outputs": []
    },
    {
      "cell_type": "code",
      "metadata": {
        "id": "xJ0jVVvtRsF5"
      },
      "source": [
        "#Criação do classificador KNN\n",
        "knn = KNeighborsClassifier()\n",
        "metric_distance = ['euclidean']\n",
        "# Definindo a lista de valores.\n",
        "k_list = list(range(1,30))\n",
        "# Colocamos os valores em um dicionário\n",
        "parametros = dict(n_neighbors=k_list, metric=metric_distance)"
      ],
      "execution_count": null,
      "outputs": []
    },
    {
      "cell_type": "code",
      "metadata": {
        "id": "A3XvNBKkX-9H",
        "colab": {
          "base_uri": "https://localhost:8080/"
        },
        "outputId": "9678be8d-032c-4c8d-e707-3b4b466ad949"
      },
      "source": [
        "#Instanciando o objeto GridSearch:\n",
        "grid_classifier = GridSearchCV(knn, parametros, cv=10)\n",
        "grid_classifier.fit(previsores_valida,classe_valida)\n",
        "scores = grid_classifier.cv_results_['mean_test_score']\n",
        "scores"
      ],
      "execution_count": null,
      "outputs": [
        {
          "output_type": "execute_result",
          "data": {
            "text/plain": [
              "array([0.9962963 , 0.9962963 , 0.9962963 , 0.9962963 , 0.9962963 ,\n",
              "       0.99259259, 0.9962963 , 0.9962963 , 0.99272487, 0.99272487,\n",
              "       0.99272487, 0.9962963 , 0.99272487, 0.99272487, 0.99272487,\n",
              "       0.98902116, 0.98915344, 0.98187831, 0.98915344, 0.98187831,\n",
              "       0.98558201, 0.98187831, 0.98558201, 0.98915344, 0.98187831,\n",
              "       0.98558201, 0.98187831, 0.98187831, 0.97830688])"
            ]
          },
          "metadata": {
            "tags": []
          },
          "execution_count": 17
        }
      ]
    },
    {
      "cell_type": "code",
      "metadata": {
        "colab": {
          "base_uri": "https://localhost:8080/"
        },
        "id": "IOQq9NlyYdup",
        "outputId": "4212e849-a963-48ae-f179-9e86e7984604"
      },
      "source": [
        "#Salvando o valor para o melhor valor da quantidade de vizinhos\n",
        "best_k= grid_classifier.best_params_.get('n_neighbors')\n",
        "print(\"Melhores parametros {} com o valor de acurácia {} \".format(grid_classifier.best_params_,grid_classifier.best_score_))"
      ],
      "execution_count": null,
      "outputs": [
        {
          "output_type": "stream",
          "text": [
            "Melhores parametros {'metric': 'euclidean', 'n_neighbors': 1} com o valor de acurácia 0.9962962962962963 \n"
          ],
          "name": "stdout"
        }
      ]
    },
    {
      "cell_type": "code",
      "metadata": {
        "id": "LaFQexKZGVq_"
      },
      "source": [
        "#Executando o classificador baseado com o valor da quantidade de melhor vizinho\n",
        "knn=KNeighborsClassifier(n_neighbors=best_k, weights='distance', metric='euclidean')"
      ],
      "execution_count": null,
      "outputs": []
    },
    {
      "cell_type": "code",
      "metadata": {
        "id": "uOIf3ywSGA64",
        "colab": {
          "base_uri": "https://localhost:8080/"
        },
        "outputId": "99c09a3a-73ca-4421-a2d3-f8c8f7c929d1"
      },
      "source": [
        "#Validação Cruzada com 10 folds\n",
        "validation_knn = cross_validate(knn, previsores, classes, cv=10, scoring=meus_scores)\n",
        "confidence_intervals(validation_knn)"
      ],
      "execution_count": null,
      "outputs": [
        {
          "output_type": "execute_result",
          "data": {
            "text/plain": [
              "{'error_rate': {'conf_inter': (0.0013231855326312225, 0.0015965224965658541),\n",
              "  'mean': 0.0014598540145985383},\n",
              " 'f1': {'conf_inter': (0.998221759495695, 0.9985262079839798),\n",
              "  'mean': 0.9983739837398374},\n",
              " 'precision': {'conf_inter': (0.9964722002898465, 0.9970761868069278),\n",
              "  'mean': 0.9967741935483871},\n",
              " 'recall': {'conf_inter': (1.0, 1.0), 'mean': 1.0}}"
            ]
          },
          "metadata": {
            "tags": []
          },
          "execution_count": 20
        }
      ]
    },
    {
      "cell_type": "code",
      "metadata": {
        "colab": {
          "base_uri": "https://localhost:8080/"
        },
        "id": "MzlznKNeIrk4",
        "outputId": "88478725-b8bf-42bb-a7e5-6e337aeb1474"
      },
      "source": [
        "#Realizar o treinamento do classificador\n",
        "knn.fit(previsores_train, classe_train)\n",
        "\n",
        "#Previsão para os testes\n",
        "predict_knn = knn.predict(previsores_test)\n",
        "score_KNN=knn.score(previsores_test,classe_test)\n",
        "print(score_KNN)\n"
      ],
      "execution_count": null,
      "outputs": [
        {
          "output_type": "stream",
          "text": [
            "1.0\n"
          ],
          "name": "stdout"
        }
      ]
    },
    {
      "cell_type": "code",
      "metadata": {
        "id": "_8McE9jsJjKw"
      },
      "source": [
        "#Matriz de confusão\n",
        "confusao = confusion_matrix(classe_test,predict_knn)"
      ],
      "execution_count": null,
      "outputs": []
    },
    {
      "cell_type": "code",
      "metadata": {
        "colab": {
          "base_uri": "https://localhost:8080/",
          "height": 373
        },
        "id": "_nY9bpdAJ5Kn",
        "outputId": "db4aeb56-b3bb-4b8e-ba7c-3f8966a6c514"
      },
      "source": [
        "#Gráfico da Matriz de Confusão\n",
        "v = ConfusionMatrix(knn)\n",
        "v.fit(previsores_train, classe_train)\n",
        "v.score(previsores_test,classe_test)\n",
        "v.poof()"
      ],
      "execution_count": null,
      "outputs": [
        {
          "output_type": "display_data",
          "data": {
            "image/png": "[encoded data removed]",
            "text/plain": [
              "<Figure size 576x396 with 1 Axes>"
            ]
          },
          "metadata": {
            "tags": []
          }
        }
      ]
    },
    {
      "cell_type": "code",
      "metadata": {
        "colab": {
          "base_uri": "https://localhost:8080/",
          "height": 392
        },
        "id": "FHSLJIISpEXM",
        "outputId": "b1864f20-f8dd-4667-99a4-fbe761f59628"
      },
      "source": [
        "#Plot do Gráfico melhor Nº de vizinhos.\n",
        "plt.figure(figsize=(10,6))\n",
        "plt.plot(k_list,scores,color='red',linestyle='dashed',marker='^')"
      ],
      "execution_count": null,
      "outputs": [
        {
          "output_type": "execute_result",
          "data": {
            "text/plain": [
              "[<matplotlib.lines.Line2D at 0x7f70e87d9fd0>]"
            ]
          },
          "metadata": {
            "tags": []
          },
          "execution_count": 24
        },
        {
          "output_type": "display_data",
          "data": {
            "image/png": "[encoded data removed]",
            "text/plain": [
              "<Figure size 720x432 with 1 Axes>"
            ]
          },
          "metadata": {
            "tags": []
          }
        }
      ]
    },
    {
      "cell_type": "markdown",
      "metadata": {
        "id": "Jw3bZ27zyfTM"
      },
      "source": [
        "#Treine um classificador bayesiano baseado em janela de Parzen. Use a função de kernel multivariada produto com um mesmo h para todas as dimensões e a função de kernel Gaussiana unidimensional. Use o conjunto de validação para fixar o parâmetro h"
      ]
    },
    {
      "cell_type": "code",
      "metadata": {
        "id": "ABVxLurVOiCO"
      },
      "source": [
        "from random import randrange\n",
        "from math import sqrt\n",
        "from math import exp\n",
        "from math import pi\n",
        "from sklearn.base import BaseEstimator\n",
        "from sklearn.base import ClassifierMixin\n",
        "from sklearn.model_selection import train_test_split\n",
        "from sklearn.model_selection import GridSearchCV\n",
        "from sklearn.neighbors import KernelDensity\n",
        "from sklearn.model_selection import cross_validate\n",
        "from statistics import mean\n",
        "from sklearn.preprocessing import MinMaxScaler\n",
        "import pandas as pd\n",
        "import numpy as np\n",
        "from matplotlib import pyplot as plt\n"
      ],
      "execution_count": null,
      "outputs": []
    },
    {
      "cell_type": "code",
      "metadata": {
        "id": "hItYkDXLPIZC"
      },
      "source": [
        "class hero(BaseEstimator, ClassifierMixin):\n",
        "  def __init__(self, bandwidth=1.0, kernel='gaussian'):\n",
        "      self.bandwidth = bandwidth\n",
        "      self.kernel = kernel\n",
        "  \n",
        "  def fit(self, X, y):\n",
        "      self.classes_ = np.sort(np.unique(y))\n",
        "      training_sets = [X[y == yi] for yi in self.classes_]\n",
        "      self.models_ = [KernelDensity(bandwidth=self.bandwidth,\n",
        "                                      kernel=self.kernel).fit(Xi)\n",
        "                        for Xi in training_sets]\n",
        "      self.logpriors_ = [np.log(Xi.shape[0] / X.shape[0])\n",
        "                           for Xi in training_sets]\n",
        "      return self\n",
        "  def predict_proba(self, X):\n",
        "      logprobs = np.array([model.score_samples(X)\n",
        "                             for model in self.models_]).T\n",
        "      result = np.exp(logprobs + self.logpriors_)\n",
        "      return result / result.sum(1, keepdims=True)\n",
        "        \n",
        "  def predict(self, X):\n",
        "      return self.classes_[np.argmax(self.predict_proba(X), 1)]"
      ],
      "execution_count": null,
      "outputs": []
    },
    {
      "cell_type": "code",
      "metadata": {
        "id": "odnwn9-CPPkE"
      },
      "source": [
        "nbparzen=hero()"
      ],
      "execution_count": null,
      "outputs": []
    },
    {
      "cell_type": "code",
      "metadata": {
        "id": "Fq91RTn6PQkK"
      },
      "source": [
        "predicao = nbparzen.fit(previsores_train, classe_train).predict(previsores_valida)\n"
      ],
      "execution_count": null,
      "outputs": []
    },
    {
      "cell_type": "code",
      "metadata": {
        "colab": {
          "base_uri": "https://localhost:8080/",
          "height": 415
        },
        "id": "a7enpKd2Pkcy",
        "outputId": "faae7c03-c89b-45e5-d414-9e9b07259131"
      },
      "source": [
        "bandwidths = np.logspace(-1, 1, 20)\n",
        "param_grid = [{'bandwidth': bandwidths}]\n",
        "gauss = GridSearchCV(nbparzen, param_grid)\n",
        "gauss.fit(previsores_valida, classe_valida)\n",
        "\n",
        "gauss.cv_results_\n",
        "scores = [x for x in gauss.cv_results_['mean_test_score']]\n",
        "\n",
        "plt.semilogx(bandwidths, scores)\n",
        "plt.xlabel('bandwidth')\n",
        "plt.ylabel('accuracy')\n",
        "plt.title('KDE Model Performance')\n",
        "print(gauss.best_params_)\n",
        "print('accuracy =', gauss.best_score_)"
      ],
      "execution_count": null,
      "outputs": [
        {
          "output_type": "stream",
          "text": [
            "{'bandwidth': 0.1}\n",
            "accuracy = 0.9963636363636363\n"
          ],
          "name": "stdout"
        },
        {
          "output_type": "display_data",
          "data": {
            "image/png": "[encoded data removed]",
            "text/plain": [
              "<Figure size 576x396 with 1 Axes>"
            ]
          },
          "metadata": {
            "tags": []
          }
        }
      ]
    },
    {
      "cell_type": "code",
      "metadata": {
        "id": "sJ2vYi2VP6b0"
      },
      "source": [
        "nbparzenHero = hero(gauss.best_params_['bandwidth'])"
      ],
      "execution_count": null,
      "outputs": []
    },
    {
      "cell_type": "code",
      "metadata": {
        "id": "-sogE1isP9Hr",
        "colab": {
          "base_uri": "https://localhost:8080/"
        },
        "outputId": "5b308b4c-ac28-40db-cef4-58c8742f79e5"
      },
      "source": [
        "validation_parzen = cross_validate(nbparzenHero, previsores, classes, cv=10, scoring=meus_scores)\n",
        "confidence_intervals(validation_parzen)\n"
      ],
      "execution_count": null,
      "outputs": [
        {
          "output_type": "execute_result",
          "data": {
            "text/plain": [
              "{'error_rate': {'conf_inter': (0.008461262036759908, 0.00905698613842255),\n",
              "  'mean': 0.00875912408759123},\n",
              " 'f1': {'conf_inter': (0.9899805166434457, 0.9906384185781645),\n",
              "  'mean': 0.9903094676108051},\n",
              " 'precision': {'conf_inter': (0.9802539782526453, 0.9815483770980972),\n",
              "  'mean': 0.9809011776753712},\n",
              " 'recall': {'conf_inter': (1.0, 1.0), 'mean': 1.0}}"
            ]
          },
          "metadata": {
            "tags": []
          },
          "execution_count": 31
        }
      ]
    },
    {
      "cell_type": "code",
      "metadata": {
        "id": "JbLrNCgYkLIt"
      },
      "source": [
        "predict_parzen=nbparzen.predict(previsores_test)"
      ],
      "execution_count": null,
      "outputs": []
    },
    {
      "cell_type": "markdown",
      "metadata": {
        "id": "Ah7pte8ZyVqb"
      },
      "source": [
        "#Treine um classificador baseado em regressão logistica com os 4 atributos numericos x1; x2; x3; x4\n",
        "\n",
        "* Foi feito Regressão logística com os 4 atributos sem definir regularização.\n",
        "* A não regularização foi determinada com no parâmetro penalty o valor \"none\".\n",
        "* O seu valor para o score na predição ficou 0.9854545454545455, um pouco menor que o valor do KNN.\n",
        "* A sua matriz de confusão errou somente 4 valores. "
      ]
    },
    {
      "cell_type": "code",
      "metadata": {
        "id": "1nSzybOgKyI4",
        "colab": {
          "base_uri": "https://localhost:8080/"
        },
        "outputId": "8713e4a8-b81b-4af8-a45a-f641bc1548e7"
      },
      "source": [
        "#Criação do classificador e execução da validação cruzada. Sem regularização. O valor do parâmetro penalty como NONE indica sem regularização.\n",
        "regression_log = LogisticRegression(penalty='none', random_state=0)\n",
        "validation_regressionLog = cross_validate(regression_log, previsores, classes, cv=10, scoring=meus_scores)\n",
        "confidence_intervals(validation_regressionLog)\n"
      ],
      "execution_count": null,
      "outputs": [
        {
          "output_type": "execute_result",
          "data": {
            "text/plain": [
              "{'error_rate': {'conf_inter': (0.01117499214238161, 0.012150936134355908),\n",
              "  'mean': 0.011662964138368759},\n",
              " 'f1': {'conf_inter': (0.9863413100857011, 0.987439961718282),\n",
              "  'mean': 0.9868906359019916},\n",
              " 'precision': {'conf_inter': (0.9849220641623398, 0.9866907357529454),\n",
              "  'mean': 0.9858063999576426},\n",
              " 'recall': {'conf_inter': (0.9875509195802599, 0.9894982607476088),\n",
              "  'mean': 0.9885245901639343}}"
            ]
          },
          "metadata": {
            "tags": []
          },
          "execution_count": 33
        }
      ]
    },
    {
      "cell_type": "code",
      "metadata": {
        "id": "S9pvcGRgItbq"
      },
      "source": [
        "#Treinamento do modelo e predição com os dados de teste.\n",
        "regression_log.fit(previsores_train, classe_train)\n",
        "predict_rl = regression_log.predict(previsores_test)\n"
      ],
      "execution_count": null,
      "outputs": []
    },
    {
      "cell_type": "code",
      "metadata": {
        "colab": {
          "base_uri": "https://localhost:8080/"
        },
        "id": "64NQ-g4NxNG2",
        "outputId": "e5418dfe-c726-4570-cf84-e29db83d652b"
      },
      "source": [
        "score_RL=regression_log.score(previsores_test,classe_test)\n",
        "print(score_RL)"
      ],
      "execution_count": null,
      "outputs": [
        {
          "output_type": "stream",
          "text": [
            "0.9854545454545455\n"
          ],
          "name": "stdout"
        }
      ]
    },
    {
      "cell_type": "code",
      "metadata": {
        "colab": {
          "base_uri": "https://localhost:8080/"
        },
        "id": "v_ueqK1DMxS1",
        "outputId": "60cf881b-7086-4602-cd5e-eb1c18c3aaa4"
      },
      "source": [
        "#Matriz de Confusão\n",
        "confusao_rl = confusion_matrix(classe_test,predict_rl)\n",
        "confusao_rl"
      ],
      "execution_count": null,
      "outputs": [
        {
          "output_type": "execute_result",
          "data": {
            "text/plain": [
              "array([[149,   4],\n",
              "       [  0, 122]])"
            ]
          },
          "metadata": {
            "tags": []
          },
          "execution_count": 36
        }
      ]
    },
    {
      "cell_type": "code",
      "metadata": {
        "colab": {
          "base_uri": "https://localhost:8080/",
          "height": 373
        },
        "id": "0DzW2z1FM_uT",
        "outputId": "03ec3c68-ecd0-44c1-b953-13131ffe8033"
      },
      "source": [
        "#Gráfico da Matriz de Confusão\n",
        "v = ConfusionMatrix(regression_log)\n",
        "v.fit(previsores_train, classe_train)\n",
        "v.score(previsores_test,classe_test)\n",
        "v.poof()"
      ],
      "execution_count": null,
      "outputs": [
        {
          "output_type": "display_data",
          "data": {
            "image/png": "[encoded data removed]",
            "text/plain": [
              "<Figure size 576x396 with 1 Axes>"
            ]
          },
          "metadata": {
            "tags": []
          }
        }
      ]
    },
    {
      "cell_type": "markdown",
      "metadata": {
        "id": "nHyDrDPKyHKN"
      },
      "source": [
        "#Treine um classificador baseado em regressão logistica com os 4 atributos numericos x1; x2; x3; x4 originais e mais 4 atributos suplementares x5 = x²1; x6 =x2^1/2; x7 = log(x3); x8 = 1/x4. Use regularização. Use conjunto de validação para fixar o parâmetro de regularização.\n",
        "\n",
        "* A questão anterior eram somente 4 atributos, para esse caso foi necessário a criação de mais 4 colunas(x5, x6, x7 e x8) para a execução do classificador.\n",
        "\n",
        "* Para esse caso de Regressão Logística foi necessário a regularização.\n",
        "\n",
        "*  Semelhante ao problema do KNN, foi utilizado o conjunto de validação para determinar qual seria o melhor valor de regularização.\n",
        "\n",
        "* Neste caso os dois parâmetros que foram testados foi o C e penalty, onde os melhores valores encontrados para ambos, consecutivamente, foi:  268.2695795279727 e l2.\n",
        "\n",
        "* Nessas configurações essa regressão logística se comportou um pouco inferior a anterior, tendo um valor de 0.9818181818181818 e errando 5 valores na matriz de confusão.\n",
        "\n"
      ]
    },
    {
      "cell_type": "code",
      "metadata": {
        "id": "V6-2pvQfWnSQ"
      },
      "source": [
        "#Criaçao do DataFrame e nomeação das colunas para a inclusão dos novos atributos\n",
        "df = pd.DataFrame(previsores)\n",
        "df.rename(columns={0: 'x1', 1: 'x2', 2: 'x3', 3: 'x4'}, inplace = True)\n"
      ],
      "execution_count": null,
      "outputs": []
    },
    {
      "cell_type": "code",
      "metadata": {
        "id": "dki1zuegFtiN"
      },
      "source": [
        "#função para adicionar as 4 colunas dos atributos suplementares\n",
        "def new_attribute(X):\n",
        "  colum_X= X.copy()\n",
        "  colum_X['x5'] = df.apply(lambda row: row.x1**2, axis=1)\n",
        "  colum_X['x6'] = df.apply(lambda row: row.x2**(1/2), axis=1)\n",
        "  colum_X['x7'] = df.apply(lambda row: math.log(row.x3), axis=1)\n",
        "  colum_X['x8'] = df.apply(lambda row: 1/row.x4, axis=1)\n",
        "\n",
        "  normalizer = MinMaxScaler(feature_range=(0.00001, 1.00001 ))\n",
        "  colum_X[['x5', 'x6', 'x7', 'x8']] = normalizer.fit_transform(colum_X[['x5', 'x6', 'x7', 'x8']]) \n",
        "  return colum_X"
      ],
      "execution_count": null,
      "outputs": []
    },
    {
      "cell_type": "code",
      "metadata": {
        "id": "QHgRLV4XQmOW",
        "colab": {
          "base_uri": "https://localhost:8080/",
          "height": 402
        },
        "outputId": "34fbfd32-f810-456c-aa25-667ba0f4b46f"
      },
      "source": [
        "#Criação do DF para a nova configuração.\n",
        "new_attr = new_attribute(df)\n",
        "new_attr"
      ],
      "execution_count": null,
      "outputs": [
        {
          "output_type": "execute_result",
          "data": {
            "text/html": [
              "<div>\n",
              "<style scoped>\n",
              "    .dataframe tbody tr th:only-of-type {\n",
              "        vertical-align: middle;\n",
              "    }\n",
              "\n",
              "    .dataframe tbody tr th {\n",
              "        vertical-align: top;\n",
              "    }\n",
              "\n",
              "    .dataframe thead th {\n",
              "        text-align: right;\n",
              "    }\n",
              "</style>\n",
              "<table border=\"1\" class=\"dataframe\">\n",
              "  <thead>\n",
              "    <tr style=\"text-align: right;\">\n",
              "      <th></th>\n",
              "      <th>x1</th>\n",
              "      <th>x2</th>\n",
              "      <th>x3</th>\n",
              "      <th>x4</th>\n",
              "      <th>x5</th>\n",
              "      <th>x6</th>\n",
              "      <th>x7</th>\n",
              "      <th>x8</th>\n",
              "    </tr>\n",
              "  </thead>\n",
              "  <tbody>\n",
              "    <tr>\n",
              "      <th>0</th>\n",
              "      <td>0.769014</td>\n",
              "      <td>0.839653</td>\n",
              "      <td>0.106793</td>\n",
              "      <td>0.736638</td>\n",
              "      <td>0.591381</td>\n",
              "      <td>0.916066</td>\n",
              "      <td>0.805718</td>\n",
              "      <td>0.000014</td>\n",
              "    </tr>\n",
              "    <tr>\n",
              "      <th>1</th>\n",
              "      <td>0.835669</td>\n",
              "      <td>0.820992</td>\n",
              "      <td>0.121814</td>\n",
              "      <td>0.644336</td>\n",
              "      <td>0.698339</td>\n",
              "      <td>0.905794</td>\n",
              "      <td>0.817149</td>\n",
              "      <td>0.000016</td>\n",
              "    </tr>\n",
              "    <tr>\n",
              "      <th>2</th>\n",
              "      <td>0.786639</td>\n",
              "      <td>0.416658</td>\n",
              "      <td>0.310618</td>\n",
              "      <td>0.786961</td>\n",
              "      <td>0.618798</td>\n",
              "      <td>0.644373</td>\n",
              "      <td>0.898455</td>\n",
              "      <td>0.000013</td>\n",
              "    </tr>\n",
              "    <tr>\n",
              "      <th>3</th>\n",
              "      <td>0.757115</td>\n",
              "      <td>0.871709</td>\n",
              "      <td>0.054931</td>\n",
              "      <td>0.450450</td>\n",
              "      <td>0.573222</td>\n",
              "      <td>0.933449</td>\n",
              "      <td>0.747972</td>\n",
              "      <td>0.000022</td>\n",
              "    </tr>\n",
              "    <tr>\n",
              "      <th>4</th>\n",
              "      <td>0.531588</td>\n",
              "      <td>0.348672</td>\n",
              "      <td>0.424672</td>\n",
              "      <td>0.687372</td>\n",
              "      <td>0.282590</td>\n",
              "      <td>0.589193</td>\n",
              "      <td>0.925620</td>\n",
              "      <td>0.000015</td>\n",
              "    </tr>\n",
              "    <tr>\n",
              "      <th>...</th>\n",
              "      <td>...</td>\n",
              "      <td>...</td>\n",
              "      <td>...</td>\n",
              "      <td>...</td>\n",
              "      <td>...</td>\n",
              "      <td>...</td>\n",
              "      <td>...</td>\n",
              "      <td>...</td>\n",
              "    </tr>\n",
              "    <tr>\n",
              "      <th>1367</th>\n",
              "      <td>0.537134</td>\n",
              "      <td>0.565865</td>\n",
              "      <td>0.165259</td>\n",
              "      <td>0.726408</td>\n",
              "      <td>0.288517</td>\n",
              "      <td>0.751460</td>\n",
              "      <td>0.843642</td>\n",
              "      <td>0.000014</td>\n",
              "    </tr>\n",
              "    <tr>\n",
              "      <th>1368</th>\n",
              "      <td>0.407700</td>\n",
              "      <td>0.332878</td>\n",
              "      <td>0.506763</td>\n",
              "      <td>0.808360</td>\n",
              "      <td>0.166226</td>\n",
              "      <td>0.575621</td>\n",
              "      <td>0.940970</td>\n",
              "      <td>0.000012</td>\n",
              "    </tr>\n",
              "    <tr>\n",
              "      <th>1369</th>\n",
              "      <td>0.237395</td>\n",
              "      <td>0.011778</td>\n",
              "      <td>0.985613</td>\n",
              "      <td>0.524765</td>\n",
              "      <td>0.056365</td>\n",
              "      <td>0.105709</td>\n",
              "      <td>0.998750</td>\n",
              "      <td>0.000019</td>\n",
              "    </tr>\n",
              "    <tr>\n",
              "      <th>1370</th>\n",
              "      <td>0.250852</td>\n",
              "      <td>0.201711</td>\n",
              "      <td>0.761597</td>\n",
              "      <td>0.660685</td>\n",
              "      <td>0.062935</td>\n",
              "      <td>0.447383</td>\n",
              "      <td>0.976354</td>\n",
              "      <td>0.000015</td>\n",
              "    </tr>\n",
              "    <tr>\n",
              "      <th>1371</th>\n",
              "      <td>0.324538</td>\n",
              "      <td>0.490757</td>\n",
              "      <td>0.343358</td>\n",
              "      <td>0.885959</td>\n",
              "      <td>0.105333</td>\n",
              "      <td>0.699597</td>\n",
              "      <td>0.907159</td>\n",
              "      <td>0.000011</td>\n",
              "    </tr>\n",
              "  </tbody>\n",
              "</table>\n",
              "<p>1372 rows × 8 columns</p>\n",
              "</div>"
            ],
            "text/plain": [
              "            x1        x2        x3  ...        x6        x7        x8\n",
              "0     0.769014  0.839653  0.106793  ...  0.916066  0.805718  0.000014\n",
              "1     0.835669  0.820992  0.121814  ...  0.905794  0.817149  0.000016\n",
              "2     0.786639  0.416658  0.310618  ...  0.644373  0.898455  0.000013\n",
              "3     0.757115  0.871709  0.054931  ...  0.933449  0.747972  0.000022\n",
              "4     0.531588  0.348672  0.424672  ...  0.589193  0.925620  0.000015\n",
              "...        ...       ...       ...  ...       ...       ...       ...\n",
              "1367  0.537134  0.565865  0.165259  ...  0.751460  0.843642  0.000014\n",
              "1368  0.407700  0.332878  0.506763  ...  0.575621  0.940970  0.000012\n",
              "1369  0.237395  0.011778  0.985613  ...  0.105709  0.998750  0.000019\n",
              "1370  0.250852  0.201711  0.761597  ...  0.447383  0.976354  0.000015\n",
              "1371  0.324538  0.490757  0.343358  ...  0.699597  0.907159  0.000011\n",
              "\n",
              "[1372 rows x 8 columns]"
            ]
          },
          "metadata": {
            "tags": []
          },
          "execution_count": 40
        }
      ]
    },
    {
      "cell_type": "code",
      "metadata": {
        "id": "h3JINuZjbMqL"
      },
      "source": [
        "# Hiperparâmetros C e penalty para tunnning\n",
        "c_space = np.logspace(-5, 8, 15)\n",
        "param_rl = {'C': c_space, 'penalty': ['l1', 'l2']}\n"
      ],
      "execution_count": null,
      "outputs": []
    },
    {
      "cell_type": "code",
      "metadata": {
        "id": "GDE7oh4jZGoF"
      },
      "source": [
        "#Junção dos novos atributos no conjunto de validação para escolha do melhor parâmetro.\n",
        "df_valida = pd.DataFrame(previsores_valida)\n",
        "df_valida.rename(columns={0: 'x1', 1: 'x2', 2: 'x3', 3: 'x4'}, inplace = True)\n",
        "valida_newattr = new_attribute(df_valida)\n"
      ],
      "execution_count": null,
      "outputs": []
    },
    {
      "cell_type": "code",
      "metadata": {
        "id": "d9JeTZIPcrFf"
      },
      "source": [
        "#Verificação do melhor parâmetro C e penaty com Grid no conjunto de validação\n",
        "regre_log2 = LogisticRegression()\n",
        "regre_log2_cv = GridSearchCV(regre_log2, param_rl, cv=10)\n",
        "regre_log2_cv.fit(valida_newattr, classe_valida)\n",
        "regre_log2_cv.best_params_"
      ],
      "execution_count": null,
      "outputs": []
    },
    {
      "cell_type": "code",
      "metadata": {
        "id": "geJWfTU2f7pR"
      },
      "source": [
        "#Salvando os melhores parâmetros\n",
        "best_C= regre_log2_cv.best_params_.get('C')\n",
        "best_penalty = regre_log2_cv.best_params_.get('penalty')\n",
        "regre_log2 = LogisticRegression(random_state=0, C=best_C, penalty=best_penalty)\n"
      ],
      "execution_count": null,
      "outputs": []
    },
    {
      "cell_type": "code",
      "metadata": {
        "id": "-yLboVo1fIR_",
        "colab": {
          "base_uri": "https://localhost:8080/"
        },
        "outputId": "41af0477-e991-406b-8beb-1af3088cc2dd"
      },
      "source": [
        "#Validação Cruzada com 10 folds\n",
        "validation_reglog2 = cross_validate(regre_log2, new_attr, classes, cv=10, scoring=meus_scores)\n",
        "confidence_intervals(validation_reglog2)\n"
      ],
      "execution_count": null,
      "outputs": [
        {
          "output_type": "execute_result",
          "data": {
            "text/plain": [
              "{'error_rate': {'conf_inter': (0.002028295168301507, 0.0023406882232144166),\n",
              "  'mean': 0.002184491695757962},\n",
              " 'f1': {'conf_inter': (0.9973865808294087, 0.9977353703901037),\n",
              "  'mean': 0.9975609756097562},\n",
              " 'precision': {'conf_inter': (0.9948153135809233, 0.9955072670642379),\n",
              "  'mean': 0.9951612903225806},\n",
              " 'recall': {'conf_inter': (1.0, 1.0), 'mean': 1.0}}"
            ]
          },
          "metadata": {
            "tags": []
          },
          "execution_count": 45
        }
      ]
    },
    {
      "cell_type": "code",
      "metadata": {
        "id": "X5ikO_C_h42y",
        "colab": {
          "base_uri": "https://localhost:8080/"
        },
        "outputId": "5a86f426-13e7-478d-c660-5a92afb9e62f"
      },
      "source": [
        "#Realizar o treinamento do classificador\n",
        "df_train = pd.DataFrame(previsores_train)\n",
        "df_train.rename(columns={0: 'x1', 1: 'x2', 2: 'x3', 3: 'x4'}, inplace = True)\n",
        "new_attr_train = new_attribute(df_train)\n",
        "regre_log2.fit(new_attr_train, classe_train)\n"
      ],
      "execution_count": null,
      "outputs": [
        {
          "output_type": "execute_result",
          "data": {
            "text/plain": [
              "LogisticRegression(C=268.2695795279727, class_weight=None, dual=False,\n",
              "                   fit_intercept=True, intercept_scaling=1, l1_ratio=None,\n",
              "                   max_iter=100, multi_class='auto', n_jobs=None, penalty='l2',\n",
              "                   random_state=0, solver='lbfgs', tol=0.0001, verbose=0,\n",
              "                   warm_start=False)"
            ]
          },
          "metadata": {
            "tags": []
          },
          "execution_count": 46
        }
      ]
    },
    {
      "cell_type": "code",
      "metadata": {
        "colab": {
          "base_uri": "https://localhost:8080/"
        },
        "id": "EY7VUhZc7oJ0",
        "outputId": "968480d4-1ec8-43bb-a54b-f359919033ad"
      },
      "source": [
        "#Previsão para os testes\n",
        "df_test = pd.DataFrame(previsores_test)\n",
        "df_test.rename(columns={0: 'x1', 1: 'x2', 2: 'x3', 3: 'x4'}, inplace = True)\n",
        "new_attr_test = new_attribute(df_test)\n",
        "\n",
        "predict_rL2 = regre_log2.predict(new_attr_test)\n",
        "score_RL=regre_log2.score(new_attr_test,classe_test)\n",
        "print(score_RL)"
      ],
      "execution_count": null,
      "outputs": [
        {
          "output_type": "stream",
          "text": [
            "0.9818181818181818\n"
          ],
          "name": "stdout"
        }
      ]
    },
    {
      "cell_type": "code",
      "metadata": {
        "id": "PSoMDwj_ic8C",
        "colab": {
          "base_uri": "https://localhost:8080/"
        },
        "outputId": "7990c27f-4985-4f4e-8538-0c23ab0d2898"
      },
      "source": [
        "#Matriz de Confusão\n",
        "confusao_RL = confusion_matrix(classe_test,predict_rL2)\n",
        "confusao_RL"
      ],
      "execution_count": null,
      "outputs": [
        {
          "output_type": "execute_result",
          "data": {
            "text/plain": [
              "array([[148,   5],\n",
              "       [  0, 122]])"
            ]
          },
          "metadata": {
            "tags": []
          },
          "execution_count": 48
        }
      ]
    },
    {
      "cell_type": "markdown",
      "metadata": {
        "id": "HehftziEo97y"
      },
      "source": [
        "#Treine um classificador usando a regra do voto majoritario usando os classificadores i) a v)\n",
        "\n",
        "* Nesse caso foi feito um ensemble com os outros classificadores para tentar verificar o desempenho.\n",
        "* A votação hard que foi utilizada envolve somar as previsões para cada rótulo de classe e prever o rótulo de classe com mais votos. "
      ]
    },
    {
      "cell_type": "code",
      "metadata": {
        "id": "d7Ud7-fra-HU"
      },
      "source": [
        "from sklearn.ensemble import  VotingClassifier\n",
        "from sklearn.model_selection import RepeatedStratifiedKFold\n",
        "from numpy import mean\n",
        "from numpy import std\n",
        "from sklearn import model_selection\n",
        "\n"
      ],
      "execution_count": null,
      "outputs": []
    },
    {
      "cell_type": "code",
      "metadata": {
        "id": "ifG_VjDUF8HN"
      },
      "source": [
        "#Função que cria o sistema de votação\n",
        "def get_vote():\n",
        "    models = list()\n",
        "    models.append(('Naive', NB))\n",
        "    models.append(('knn', knn))\n",
        "    models.append(('lr1', regression_log))\n",
        "    models.append(('lr2', regre_log2))\n",
        "    models.append(('parzen', nbparzenHero))\n",
        "    # Define o voto ensembles\n",
        "    ensemble = VotingClassifier(estimators=models, voting='hard')\n",
        "    return ensemble"
      ],
      "execution_count": null,
      "outputs": []
    },
    {
      "cell_type": "code",
      "metadata": {
        "id": "rSKvVNKXmBhJ"
      },
      "source": [
        "#Retorna os modelos\n",
        "def get_models():\n",
        "      models = dict()\n",
        "      models['Naive'] = NB\n",
        "      models['knn'] = knn\n",
        "      models['lr1'] = regression_log\n",
        "      models['lr2'] = regre_log2\n",
        "      models['parzen'] = nbparzenHero\n",
        "      models['ensemble'] = get_vote()\n",
        "      return models\n",
        "\n"
      ],
      "execution_count": null,
      "outputs": []
    },
    {
      "cell_type": "code",
      "metadata": {
        "id": "z0CX4ZP52y3D"
      },
      "source": [
        "#Executa os modelos com validação cruzada 10-folds\n",
        "def evaluate_model(model, X, y):\n",
        "    cross_ensemble = cross_validate(model, X, y, cv=10, scoring=meus_scores)\n",
        "    return cross_ensemble"
      ],
      "execution_count": null,
      "outputs": []
    },
    {
      "cell_type": "code",
      "metadata": {
        "id": "LY1o9-zt2MIL",
        "colab": {
          "base_uri": "https://localhost:8080/"
        },
        "outputId": "c4a6de79-a3e5-4a02-b3e7-715683ffa94d"
      },
      "source": [
        "#Executa os modelos e separa RL2, devido a quantidade de atributos diferentes.\n",
        "results, names = list(), list()\n",
        "models = get_models()\n",
        "for name, model in models.items():\n",
        "    if name == 'lr2':\n",
        "      scores = evaluate_model(model, new_attr, classes)\n",
        "      results.append(scores)\n",
        "      names.append(name)\n",
        "      print(\"Classificador\", name)\n",
        "      print(confidence_intervals(scores))\n",
        "    elif name == 'ensemble':\n",
        "      validation_ensemble = evaluate_model(model, previsores, classes)\n",
        "      results.append(validation_ensemble)\n",
        "      names.append(name)\n",
        "      print(\"Classificador\", name)\n",
        "      print(confidence_intervals(validation_ensemble))\n",
        "      data_conf_ensemble = pd.DataFrame.from_dict(validation_ensemble)\n",
        "    else:\n",
        "      scores = evaluate_model(model, previsores, classes)\n",
        "      results.append(scores)\n",
        "      names.append(name)\n",
        "      print(\"Classificador\", name)\n",
        "      print(confidence_intervals(scores)) "
      ],
      "execution_count": null,
      "outputs": [
        {
          "output_type": "stream",
          "text": [
            "Classificador Naive\n",
            "{'error_rate': {'mean': 0.16109171691526497, 'conf_inter': (0.15945544822871388, 0.16272798560181606)}, 'precision': {'mean': 0.8620587249948404, 'conf_inter': (0.8606384504252516, 0.8634789995644292)}, 'recall': {'mean': 0.759016393442623, 'conf_inter': (0.755723891759616, 0.7623088951256299)}, 'f1': {'mean': 0.805835440364145, 'conf_inter': (0.8036035382218729, 0.8080673425064171)}}\n",
            "Classificador knn\n",
            "{'error_rate': {'mean': 0.0014598540145985383, 'conf_inter': (0.0013231855326312225, 0.0015965224965658541)}, 'precision': {'mean': 0.9967741935483871, 'conf_inter': (0.9964722002898465, 0.9970761868069278)}, 'recall': {'mean': 1.0, 'conf_inter': (1.0, 1.0)}, 'f1': {'mean': 0.9983739837398374, 'conf_inter': (0.998221759495695, 0.9985262079839798)}}\n",
            "Classificador lr1\n",
            "{'error_rate': {'mean': 0.011662964138368759, 'conf_inter': (0.01117499214238161, 0.012150936134355908)}, 'precision': {'mean': 0.9858063999576426, 'conf_inter': (0.9849220641623398, 0.9866907357529454)}, 'recall': {'mean': 0.9885245901639343, 'conf_inter': (0.9875509195802599, 0.9894982607476088)}, 'f1': {'mean': 0.9868906359019916, 'conf_inter': (0.9863413100857011, 0.987439961718282)}}\n",
            "Classificador lr2\n",
            "{'error_rate': {'mean': 0.002184491695757962, 'conf_inter': (0.002028295168301507, 0.0023406882232144166)}, 'precision': {'mean': 0.9951612903225806, 'conf_inter': (0.9948153135809233, 0.9955072670642379)}, 'recall': {'mean': 1.0, 'conf_inter': (1.0, 1.0)}, 'f1': {'mean': 0.9975609756097562, 'conf_inter': (0.9973865808294087, 0.9977353703901037)}}\n",
            "Classificador parzen\n",
            "{'error_rate': {'mean': 0.00875912408759123, 'conf_inter': (0.008461262036759908, 0.00905698613842255)}, 'precision': {'mean': 0.9809011776753712, 'conf_inter': (0.9802539782526453, 0.9815483770980972)}, 'recall': {'mean': 1.0, 'conf_inter': (1.0, 1.0)}, 'f1': {'mean': 0.9903094676108051, 'conf_inter': (0.9899805166434457, 0.9906384185781645)}}\n",
            "Classificador ensemble\n",
            "{'error_rate': {'mean': 0.00947318311647095, 'conf_inter': (0.008988970122054414, 0.009957396110887487)}, 'precision': {'mean': 0.9843844885357314, 'conf_inter': (0.9833276406835507, 0.985441336387912)}, 'recall': {'mean': 0.9950819672131148, 'conf_inter': (0.9947303187215943, 0.9954336157046353)}, 'f1': {'mean': 0.9895318358157367, 'conf_inter': (0.9890081048393824, 0.990055566792091)}}\n"
          ],
          "name": "stdout"
        }
      ]
    },
    {
      "cell_type": "code",
      "metadata": {
        "id": "sJEBF57wt9FI",
        "colab": {
          "base_uri": "https://localhost:8080/"
        },
        "outputId": "db33ddc6-52eb-4a3c-e487-7b0ed70b93a6"
      },
      "source": [
        "#Cria uma lista com os modelos para o treinamento\n",
        "models_train= list()\n",
        "models_train.append(('Naive', NB))\n",
        "models_train.append(('knn', knn))\n",
        "models_train.append(('lr1', regression_log))\n",
        "models_train.append(('lr2', regre_log2))\n",
        "models_train.append(('parzen', nbparzenHero))\n",
        "models_train\n"
      ],
      "execution_count": null,
      "outputs": [
        {
          "output_type": "execute_result",
          "data": {
            "text/plain": [
              "[('Naive', NaiveBayes(verbose=False)),\n",
              " ('knn',\n",
              "  KNeighborsClassifier(algorithm='auto', leaf_size=30, metric='euclidean',\n",
              "                       metric_params=None, n_jobs=None, n_neighbors=1, p=2,\n",
              "                       weights='distance')),\n",
              " ('lr1',\n",
              "  LogisticRegression(C=1.0, class_weight=None, dual=False, fit_intercept=True,\n",
              "                     intercept_scaling=1, l1_ratio=None, max_iter=100,\n",
              "                     multi_class='auto', n_jobs=None, penalty='none',\n",
              "                     random_state=0, solver='lbfgs', tol=0.0001, verbose=0,\n",
              "                     warm_start=False)),\n",
              " ('lr2', LogisticRegression(C=268.2695795279727, class_weight=None, dual=False,\n",
              "                     fit_intercept=True, intercept_scaling=1, l1_ratio=None,\n",
              "                     max_iter=100, multi_class='auto', n_jobs=None, penalty='l2',\n",
              "                     random_state=0, solver='lbfgs', tol=0.0001, verbose=0,\n",
              "                     warm_start=False)),\n",
              " ('parzen', hero(bandwidth=0.1, kernel='gaussian'))]"
            ]
          },
          "metadata": {
            "tags": []
          },
          "execution_count": 54
        }
      ]
    },
    {
      "cell_type": "code",
      "metadata": {
        "id": "hKNj3ICtLFiG",
        "colab": {
          "base_uri": "https://localhost:8080/"
        },
        "outputId": "d035368b-943a-451e-d564-397971191bcc"
      },
      "source": [
        "#Treina cada modelo e exibe o Score\n",
        "ensemble_train = VotingClassifier(estimators=models_train, voting='hard')\n",
        "ensemble_train.fit(previsores_train, classe_train)\n",
        "predict_ensemble = ensemble_train.predict(previsores_test)\n",
        "score_ensemble= ensemble_train.score(previsores_test, classe_test)\n",
        "score_ensemble\n"
      ],
      "execution_count": null,
      "outputs": [
        {
          "output_type": "execute_result",
          "data": {
            "text/plain": [
              "0.9854545454545455"
            ]
          },
          "metadata": {
            "tags": []
          },
          "execution_count": 66
        }
      ]
    },
    {
      "cell_type": "code",
      "metadata": {
        "id": "9vg3NQLIzdyC",
        "colab": {
          "base_uri": "https://localhost:8080/"
        },
        "outputId": "fa9b7715-c7a0-48a7-f16b-d72d84974487"
      },
      "source": [
        "#Matriz de Confusão\n",
        "confusao_ensemble = confusion_matrix(classe_test,predict_ensemble)\n",
        "confusao_ensemble"
      ],
      "execution_count": null,
      "outputs": [
        {
          "output_type": "execute_result",
          "data": {
            "text/plain": [
              "array([[149,   4],\n",
              "       [  0, 122]])"
            ]
          },
          "metadata": {
            "tags": []
          },
          "execution_count": 56
        }
      ]
    },
    {
      "cell_type": "markdown",
      "metadata": {
        "id": "JGf99YxvovCZ"
      },
      "source": [
        "# Friedman Test"
      ]
    },
    {
      "cell_type": "code",
      "metadata": {
        "id": "vrl9paDDSAG2"
      },
      "source": [
        "# Configuração dos vetores para executar o Friedman Test\n",
        "data_conf_naive = pd.DataFrame.from_dict(validation_nbclassifier)\n",
        "data_conf_reglog = pd.DataFrame.from_dict(validation_reglog2)\n",
        "data_conf_knn = pd.DataFrame.from_dict(validation_knn)\n",
        "data_conf_parzen = pd.DataFrame.from_dict(validation_parzen)\n",
        "data_conf_reglog2 = pd.DataFrame.from_dict(validation_reglog2)\n",
        "\n",
        "f_naive = data_conf_naive\n",
        "f_knn=data_conf_knn.values\n",
        "f_reglog=data_conf_reglog.values\n",
        "f_parzen=data_conf_parzen.values\n",
        "f_reglo2 = data_conf_reglog2.values\n",
        "f_ensemble = data_conf_ensemble.values\n"
      ],
      "execution_count": null,
      "outputs": []
    },
    {
      "cell_type": "markdown",
      "metadata": {
        "id": "jkfpk7lHJbRz"
      },
      "source": [
        "* A suposição padrão, ou hipótese nula, é que as várias amostras emparelhadas têm a mesma distribuição. Uma rejeição da hipótese nula indica que uma ou mais das amostras emparelhadas tem uma distribuição diferente.\n",
        "\n",
        "* Falha ao rejeitar H0: As distribuições de amostras emparelhadas são iguais.\n",
        "Rejeitar H0: As distribuições de amostras emparelhadas não são iguais."
      ]
    },
    {
      "cell_type": "code",
      "metadata": {
        "id": "6C_sUgpPRyQx",
        "colab": {
          "base_uri": "https://localhost:8080/"
        },
        "outputId": "4dbf6d30-733c-4ca1-e40d-d698adbb0d76"
      },
      "source": [
        "# Friedman test\n",
        "from scipy.stats import friedmanchisquare\n",
        "\n",
        "# Comparação das amostras\n",
        "stat, p = friedmanchisquare(f_naive,f_knn, f_reglog, f_parzen, f_reglo2, f_ensemble)\n",
        "print('Statistics=%.3f, p=%.3f' % (stat, p))\n",
        "# Nível de significância em 5%\n",
        "alpha = 0.05\n",
        "if p > alpha:\n",
        "\tprint('Mesma distribuição (aceita H0)')\n",
        "else:\n",
        "\tprint('Diferente distribuições (rejeita H0)')"
      ],
      "execution_count": null,
      "outputs": [
        {
          "output_type": "stream",
          "text": [
            "Statistics=-777.963, p=1.000\n",
            "Mesma distribuição (aceita H0)\n"
          ],
          "name": "stdout"
        }
      ]
    },
    {
      "cell_type": "markdown",
      "metadata": {
        "id": "Zt1EWp0gop7t"
      },
      "source": [
        "Cálculo do Error"
      ]
    },
    {
      "cell_type": "code",
      "metadata": {
        "id": "ZXZEhUvnZW46"
      },
      "source": [
        "def error_rate_media(resuls_metrics):\n",
        "\n",
        "  data_conf_inter = pd.DataFrame.from_dict(resuls_metrics)\n",
        "  data_conf_inter['test_error_rate'] =  1 - data_conf_inter['test_accuracy']\n",
        "  error_rate_mean = data_conf_inter['test_error_rate'].mean() \n",
        "\n",
        "  return error_rate_mean"
      ],
      "execution_count": null,
      "outputs": []
    },
    {
      "cell_type": "markdown",
      "metadata": {
        "id": "I3Vc_CaAxkVA"
      },
      "source": [
        "\n",
        "Cálculo F1-Score"
      ]
    },
    {
      "cell_type": "code",
      "metadata": {
        "id": "tJd-4fHVxUI8"
      },
      "source": [
        "def f1_media(resuls_metrics):\n",
        "\n",
        "  data_conf_inter = pd.DataFrame.from_dict(resuls_metrics)\n",
        "  f1_mean = data_conf_inter['test_f1'].mean()\n",
        "\n",
        "  return f1_mean"
      ],
      "execution_count": null,
      "outputs": []
    },
    {
      "cell_type": "markdown",
      "metadata": {
        "id": "m0ai9CBihUQQ"
      },
      "source": [
        " Cálculo Recall\n",
        "\n",
        "\n",
        "\n"
      ]
    },
    {
      "cell_type": "code",
      "metadata": {
        "id": "hS_RRDGihLD3"
      },
      "source": [
        "def recall_media(resuls_metrics):\n",
        "\n",
        "  data_conf_inter = pd.DataFrame.from_dict(resuls_metrics)\n",
        "  recall_mean = data_conf_inter['test_recall'].mean()\n",
        "\n",
        "  return recall_mean"
      ],
      "execution_count": null,
      "outputs": []
    },
    {
      "cell_type": "markdown",
      "metadata": {
        "id": "oLhvfLaqofIX"
      },
      "source": [
        "Cálculo Precision"
      ]
    },
    {
      "cell_type": "code",
      "metadata": {
        "id": "xYz-OZzojqng"
      },
      "source": [
        "def precision_media(resuls_metrics):\n",
        "\n",
        "  data_conf_inter = pd.DataFrame.from_dict(resuls_metrics)\n",
        "  precision_mean = data_conf_inter['test_precision'].mean()\n",
        "\n",
        "  return precision_mean"
      ],
      "execution_count": null,
      "outputs": []
    },
    {
      "cell_type": "markdown",
      "metadata": {
        "id": "IuC_PmfojAuQ"
      },
      "source": [
        "# Curva ROC"
      ]
    },
    {
      "cell_type": "code",
      "metadata": {
        "colab": {
          "base_uri": "https://localhost:8080/",
          "height": 403
        },
        "id": "hYwW73A_jIuc",
        "outputId": "11ec8026-eb00-48fc-d6fe-1e3777152482"
      },
      "source": [
        "plt.figure(figsize = (10,6))\n",
        "fpr_reg, tpr_reg, limite1 = metrics.roc_curve(classe_test, predict_rl)\n",
        "fpr_knn, tpr_knn, limite2 = metrics.roc_curve(classe_test, predict_knn)\n",
        "fpr_nb, tpr_nb, limite3 = metrics.roc_curve(classe_test, predict_NB)\n",
        "fpr_reg2, tpr_reg2, limite4 = metrics.roc_curve(classe_test, predict_rL2)\n",
        "fpr_par, tpr_par, limite5 = metrics.roc_curve(classe_test, predict_parzen)\n",
        "fpr_ense, tpr_ense, limite6 = metrics.roc_curve(classe_test, predict_ensemble)\n",
        "\n",
        "plt.plot(fpr_reg, tpr_reg, color='red', label='Regressão Logística')\n",
        "plt.plot(fpr_knn, tpr_knn, color='green', label='KNN')\n",
        "plt.plot(fpr_nb, tpr_nb, color='blue', label='Naybe Bayes')\n",
        "plt.plot(fpr_reg2, tpr_reg2, color='yellow', label='Regressão Logística -2')\n",
        "plt.plot(fpr_par, tpr_par, color='purple', label='Parzen')\n",
        "plt.plot(fpr_ense, tpr_ense, color='black', label='Ensemble')\n",
        "\n",
        "\n",
        "plt.xlabel('Taxa de falso positivo')\n",
        "plt.ylabel('Taxa de verdadeiro positivo')\n",
        "plt.title('Curva ROC para os modelos')\n",
        "plt.legend()\n",
        "plt.show()"
      ],
      "execution_count": null,
      "outputs": [
        {
          "output_type": "display_data",
          "data": {
            "image/png": "[encoded data removed]",
            "text/plain": [
              "<Figure size 720x432 with 1 Axes>"
            ]
          },
          "metadata": {
            "tags": []
          }
        }
      ]
    },
    {
      "cell_type": "markdown",
      "metadata": {
        "id": "h5XHpy9To6ih"
      },
      "source": [
        "#Gráfico com as Métricas"
      ]
    },
    {
      "cell_type": "code",
      "metadata": {
        "colab": {
          "base_uri": "https://localhost:8080/",
          "height": 455
        },
        "id": "D-4jumycga33",
        "outputId": "4b1e2b27-7a9b-44be-9403-b7c57c6d372e"
      },
      "source": [
        "# Gráfico para todos os classificadores\n",
        "\n",
        "plt.figure(figsize = (14,6))\n",
        "\n",
        "valores_F1 = [f1_media(validation_knn), f1_media(validation_nbclassifier),\n",
        "           f1_media(validation_parzen), f1_media(validation_regressionLog),\n",
        "           f1_media(validation_reglog2), f1_media(validation_ensemble)]\n",
        "valores_error = [error_rate_media(validation_knn), error_rate_media(validation_nbclassifier),\n",
        "           error_rate_media(validation_parzen), error_rate_media(validation_regressionLog),\n",
        "           error_rate_media(validation_reglog2), error_rate_media(validation_ensemble)]\n",
        "valores_recall = [recall_media(validation_knn), recall_media(validation_nbclassifier),\n",
        "           recall_media(validation_parzen), recall_media(validation_regressionLog),\n",
        "           recall_media(validation_reglog2), recall_media(validation_ensemble)]\n",
        "valores_precision = [precision_media(validation_knn), precision_media(validation_nbclassifier),\n",
        "           precision_media(validation_parzen), precision_media(validation_regressionLog),\n",
        "           precision_media(validation_reglog2), precision_media(validation_ensemble)]\n",
        "\n",
        "\n",
        "# Cria eixo x para os classificadores com uma separação de 0.2 entre as barras\n",
        "x1 =  np.arange(len(valores_F1))\n",
        "x2 = [x + 0.20 for x in x1]\n",
        "x3 = [x + 0.20 for x in x2]\n",
        "x4 = [x + 0.20 for x in x3]\n",
        "\n",
        "# Plota as barras\n",
        "plt.bar(x1, valores_F1, width=0.19, label = 'F1', color = 'r')\n",
        "plt.bar(x2, valores_error, width=0.19, label = 'Error', color = 'y')\n",
        "plt.bar(x3, valores_recall, width=0.19, label = 'Recall', color = 'b')\n",
        "plt.bar(x4, valores_precision, width=0.19, label = 'Precision', color = 'g')\n",
        "\n",
        "# coloca o nome dos classificadores como label do eixo x\n",
        "classificadores = ['KNN', 'Gaussiana', 'Parzen', 'RegLog', 'RegLog2', 'Ensemble']\n",
        "plt.xticks([x + 0.25 for x in range(len(x4))], classificadores, fontsize = 14)\n",
        "\n",
        "# inseri uma legenda no gráfico\n",
        "plt.legend(bbox_to_anchor=(1.0, 1.0), loc='upper left')\n",
        "plt.tight_layout()\n",
        "plt.title(\"Métricas\" , fontsize=16)\n",
        "plt.show()"
      ],
      "execution_count": null,
      "outputs": [
        {
          "output_type": "display_data",
          "data": {
            "image/png": "[encoded data removed]",
            "text/plain": [
              "<Figure size 1008x432 with 1 Axes>"
            ]
          },
          "metadata": {
            "tags": []
          }
        }
      ]
    }
  ]
}